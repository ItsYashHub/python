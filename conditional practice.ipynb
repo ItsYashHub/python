{
 "cells": [
  {
   "cell_type": "code",
   "execution_count": 7,
   "id": "3a9ed1cb-8c5c-4c99-a6d4-a9927331aa82",
   "metadata": {},
   "outputs": [
    {
     "name": "stdin",
     "output_type": "stream",
     "text": [
      " 2023\n"
     ]
    },
    {
     "name": "stdout",
     "output_type": "stream",
     "text": [
      "2023 is not a leap year.\n"
     ]
    }
   ],
   "source": [
    "year = int(input()) # You can change this value for testing\n",
    "if (year % 4 == 0 and year % 100 != 0) or (year % 400 == 0):\n",
    "    print(f\"{year} is a leap year.\")\n",
    "else:\n",
    "    print(f\"{year} is not a leap year.\")"
   ]
  },
  {
   "cell_type": "code",
   "execution_count": 9,
   "id": "18060f8a-bdff-4de8-8d4e-551a2d868753",
   "metadata": {},
   "outputs": [
    {
     "name": "stdout",
     "output_type": "stream",
     "text": [
      "The sum of all numbers is 15.\n"
     ]
    }
   ],
   "source": [
    "# Find the sum of all numbers in a list\n",
    "numbers = [1, 2, 3, 4, 5]\n",
    "sum_of_numbers = 0\n",
    "for number in numbers:\n",
    "    sum_of_numbers += number\n",
    "print(f\"The sum of all numbers is {sum_of_numbers}.\")"
   ]
  },
  {
   "cell_type": "code",
   "execution_count": 15,
   "id": "53db472d-f758-45c7-8f0a-8ffb18d17e25",
   "metadata": {},
   "outputs": [
    {
     "name": "stdin",
     "output_type": "stream",
     "text": [
      "Enter number of elements :  5\n",
      " 2\n",
      " 3445\n",
      " 2232\n",
      " 32323\n",
      " 3\n"
     ]
    },
    {
     "name": "stdout",
     "output_type": "stream",
     "text": [
      "The largest number is 32323 and the smallest number is 2.\n"
     ]
    }
   ],
   "source": [
    "#Find the largest and smallest number in a list\n",
    "numbers = []\n",
    "n = int(input(\"Enter number of elements : \"))\n",
    "for i in range(0, n):\n",
    "    ele = int(input())\n",
    "    numbers.append(ele)\n",
    "largest = numbers[0]\n",
    "smallest = numbers[0]\n",
    "for number in numbers:\n",
    "    if number > largest:\n",
    "        largest = number\n",
    "    if number < smallest:\n",
    "        smallest = number\n",
    "print(f\"The largest number is {largest} and the smallest number is {smallest}.\")"
   ]
  },
  {
   "cell_type": "code",
   "execution_count": null,
   "id": "941a5077-1c1d-4641-ae04-44b4b0bc43cf",
   "metadata": {},
   "outputs": [],
   "source": []
  }
 ],
 "metadata": {
  "kernelspec": {
   "display_name": "Python 3 (ipykernel)",
   "language": "python",
   "name": "python3"
  },
  "language_info": {
   "codemirror_mode": {
    "name": "ipython",
    "version": 3
   },
   "file_extension": ".py",
   "mimetype": "text/x-python",
   "name": "python",
   "nbconvert_exporter": "python",
   "pygments_lexer": "ipython3",
   "version": "3.12.4"
  }
 },
 "nbformat": 4,
 "nbformat_minor": 5
}
