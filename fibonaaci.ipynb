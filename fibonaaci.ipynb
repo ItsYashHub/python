{
 "cells": [
  {
   "cell_type": "code",
   "execution_count": 5,
   "id": "2f8ded2d-3de2-4456-b9dd-5fac498403b4",
   "metadata": {},
   "outputs": [
    {
     "name": "stdout",
     "output_type": "stream",
     "text": [
      "0\n",
      "1\n",
      "1\n",
      "2\n",
      "3\n",
      "5\n",
      "8\n",
      "13\n",
      "21\n",
      "34\n"
     ]
    }
   ],
   "source": [
    "##first 10 numbers of the Fibonacci sequence\n",
    "a = 0\n",
    "b = 1\n",
    "for i in range(10):\n",
    "    c = a + b\n",
    "    print(a)\n",
    "    a = b\n",
    "    b = c"
   ]
  },
  {
   "cell_type": "code",
   "execution_count": null,
   "id": "d68201fe-73d0-4ecc-9fb3-e68549b6d00d",
   "metadata": {},
   "outputs": [],
   "source": []
  }
 ],
 "metadata": {
  "kernelspec": {
   "display_name": "Python 3 (ipykernel)",
   "language": "python",
   "name": "python3"
  },
  "language_info": {
   "codemirror_mode": {
    "name": "ipython",
    "version": 3
   },
   "file_extension": ".py",
   "mimetype": "text/x-python",
   "name": "python",
   "nbconvert_exporter": "python",
   "pygments_lexer": "ipython3",
   "version": "3.12.4"
  }
 },
 "nbformat": 4,
 "nbformat_minor": 5
}
