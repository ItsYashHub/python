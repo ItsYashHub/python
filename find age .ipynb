{
 "cells": [
  {
   "cell_type": "markdown",
   "id": "abc7cd68-b026-439e-8641-0b3c9b0998c0",
   "metadata": {},
   "source": [
    "## mini project "
   ]
  },
  {
   "cell_type": "code",
   "execution_count": null,
   "id": "01a6b9a1-3ed9-4ac3-9a7f-7223056f9c04",
   "metadata": {},
   "outputs": [],
   "source": [
    "## Find your age how old you are?"
   ]
  },
  {
   "cell_type": "code",
   "execution_count": 1,
   "id": "f41d2c01-9bdc-4400-a0bb-28624096bbac",
   "metadata": {},
   "outputs": [
    {
     "name": "stdin",
     "output_type": "stream",
     "text": [
      "enter your birthyear you born  2003\n"
     ]
    },
    {
     "name": "stdout",
     "output_type": "stream",
     "text": [
      "21\n"
     ]
    }
   ],
   "source": [
    "birthyear = input ( \"enter your birthyear you born \")    ## what's your age now \n",
    "age = 2024 - int(birthyear)\n",
    "print(age)"
   ]
  }
 ],
 "metadata": {
  "kernelspec": {
   "display_name": "Python 3 (ipykernel)",
   "language": "python",
   "name": "python3"
  },
  "language_info": {
   "codemirror_mode": {
    "name": "ipython",
    "version": 3
   },
   "file_extension": ".py",
   "mimetype": "text/x-python",
   "name": "python",
   "nbconvert_exporter": "python",
   "pygments_lexer": "ipython3",
   "version": "3.12.4"
  }
 },
 "nbformat": 4,
 "nbformat_minor": 5
}
