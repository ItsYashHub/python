{
 "cells": [
  {
   "cell_type": "code",
   "execution_count": 1,
   "id": "d26f9a87",
   "metadata": {},
   "outputs": [],
   "source": [
    "#list -- homo and hetroin \n",
    "# list elements are closed []\n",
    "# elements are seperated by ,\n",
    "# list elemnt access by +ve and -ve indexing\n",
    "# mutable\n",
    "# slicing works on list [s: E : st]\n",
    "\n",
    "#[value] [v1: v2] [v1: v2 :v3]\n",
    "\n",
    "#l1 = []\n",
    "#l2 = list()\n",
    "\n",
    "#type(l1)\n",
    "#---> list\n",
    "\n",
    "#print(type(l1))\n",
    "#----> (class list)\n",
    "\n"
   ]
  },
  {
   "cell_type": "code",
   "execution_count": 4,
   "id": "b9d52ce6",
   "metadata": {},
   "outputs": [],
   "source": [
    "l3 = [1,2,3,4,5,6,7,8,9,10]"
   ]
  },
  {
   "cell_type": "code",
   "execution_count": 6,
   "id": "5f72125c",
   "metadata": {},
   "outputs": [
    {
     "data": {
      "text/plain": [
       "[1, 2, 3, 4, 5, 6, 7, 8, 9, 10]"
      ]
     },
     "execution_count": 6,
     "metadata": {},
     "output_type": "execute_result"
    }
   ],
   "source": [
    "l3"
   ]
  },
  {
   "cell_type": "code",
   "execution_count": 5,
   "id": "16ee15dc",
   "metadata": {},
   "outputs": [
    {
     "name": "stdout",
     "output_type": "stream",
     "text": [
      "<class 'list'>\n"
     ]
    }
   ],
   "source": [
    "print(type(l3))"
   ]
  },
  {
   "cell_type": "code",
   "execution_count": 10,
   "id": "f017a7a1",
   "metadata": {},
   "outputs": [],
   "source": [
    "l4 = [\"hello\", 3,5,5.32]"
   ]
  },
  {
   "cell_type": "code",
   "execution_count": 11,
   "id": "18ff1d4a",
   "metadata": {},
   "outputs": [
    {
     "data": {
      "text/plain": [
       "['hello', 3, 5, 5.32]"
      ]
     },
     "execution_count": 11,
     "metadata": {},
     "output_type": "execute_result"
    }
   ],
   "source": [
    "l4"
   ]
  },
  {
   "cell_type": "code",
   "execution_count": 12,
   "id": "80548bc2",
   "metadata": {},
   "outputs": [
    {
     "name": "stdout",
     "output_type": "stream",
     "text": [
      "<class 'list'>\n"
     ]
    }
   ],
   "source": [
    "print(type(l4))"
   ]
  },
  {
   "cell_type": "code",
   "execution_count": 13,
   "id": "4b238285",
   "metadata": {},
   "outputs": [
    {
     "data": {
      "text/plain": [
       "5"
      ]
     },
     "execution_count": 13,
     "metadata": {},
     "output_type": "execute_result"
    }
   ],
   "source": [
    "l3 [4]"
   ]
  },
  {
   "cell_type": "code",
   "execution_count": 15,
   "id": "c706fc3c",
   "metadata": {},
   "outputs": [
    {
     "data": {
      "text/plain": [
       "1"
      ]
     },
     "execution_count": 15,
     "metadata": {},
     "output_type": "execute_result"
    }
   ],
   "source": [
    "l3[0]"
   ]
  },
  {
   "cell_type": "code",
   "execution_count": 16,
   "id": "def6ed19",
   "metadata": {},
   "outputs": [
    {
     "data": {
      "text/plain": [
       "10"
      ]
     },
     "execution_count": 16,
     "metadata": {},
     "output_type": "execute_result"
    }
   ],
   "source": [
    "l3[-1]"
   ]
  },
  {
   "cell_type": "code",
   "execution_count": 17,
   "id": "deee704f",
   "metadata": {},
   "outputs": [
    {
     "data": {
      "text/plain": [
       "[3, 4, 5, 6]"
      ]
     },
     "execution_count": 17,
     "metadata": {},
     "output_type": "execute_result"
    }
   ],
   "source": [
    "l3[2:6]"
   ]
  },
  {
   "cell_type": "code",
   "execution_count": 18,
   "id": "e9e296d4",
   "metadata": {},
   "outputs": [
    {
     "data": {
      "text/plain": [
       "[1, 3, 5, 7]"
      ]
     },
     "execution_count": 18,
     "metadata": {},
     "output_type": "execute_result"
    }
   ],
   "source": [
    "l3[0:8:2]"
   ]
  },
  {
   "cell_type": "code",
   "execution_count": 19,
   "id": "a20ea45d",
   "metadata": {},
   "outputs": [
    {
     "data": {
      "text/plain": [
       "[1, 2, 3, 4, 5, 6, 7, 8, 9, 10]"
      ]
     },
     "execution_count": 19,
     "metadata": {},
     "output_type": "execute_result"
    }
   ],
   "source": [
    "l3[:]"
   ]
  },
  {
   "cell_type": "code",
   "execution_count": 20,
   "id": "5ac8d0fc",
   "metadata": {},
   "outputs": [
    {
     "data": {
      "text/plain": [
       "[1, 2, 3, 4, 5, 6, 7, 8, 9, 10]"
      ]
     },
     "execution_count": 20,
     "metadata": {},
     "output_type": "execute_result"
    }
   ],
   "source": [
    "l3[::]"
   ]
  },
  {
   "cell_type": "code",
   "execution_count": 21,
   "id": "712db23a",
   "metadata": {},
   "outputs": [
    {
     "data": {
      "text/plain": [
       "[4, 5, 6, 7, 8, 9, 10]"
      ]
     },
     "execution_count": 21,
     "metadata": {},
     "output_type": "execute_result"
    }
   ],
   "source": [
    "l3[3::]"
   ]
  },
  {
   "cell_type": "code",
   "execution_count": 22,
   "id": "05a86cc0",
   "metadata": {},
   "outputs": [
    {
     "data": {
      "text/plain": [
       "[1, 2, 3, 4, 5]"
      ]
     },
     "execution_count": 22,
     "metadata": {},
     "output_type": "execute_result"
    }
   ],
   "source": [
    "l3[:5:]"
   ]
  },
  {
   "cell_type": "code",
   "execution_count": 23,
   "id": "0f5b1d23",
   "metadata": {},
   "outputs": [
    {
     "data": {
      "text/plain": [
       "[]"
      ]
     },
     "execution_count": 23,
     "metadata": {},
     "output_type": "execute_result"
    }
   ],
   "source": [
    "l3[3:8:-1]"
   ]
  },
  {
   "cell_type": "code",
   "execution_count": 24,
   "id": "7800ac24",
   "metadata": {},
   "outputs": [
    {
     "data": {
      "text/plain": [
       "[10, 9, 8, 7, 6, 5, 4, 3, 2, 1]"
      ]
     },
     "execution_count": 24,
     "metadata": {},
     "output_type": "execute_result"
    }
   ],
   "source": [
    "l3[::-1]"
   ]
  },
  {
   "cell_type": "code",
   "execution_count": 9,
   "id": "7698d000",
   "metadata": {},
   "outputs": [
    {
     "ename": "NameError",
     "evalue": "name 'l3' is not defined",
     "output_type": "error",
     "traceback": [
      "\u001b[1;31m---------------------------------------------------------------------------\u001b[0m",
      "\u001b[1;31mNameError\u001b[0m                                 Traceback (most recent call last)",
      "Cell \u001b[1;32mIn[9], line 1\u001b[0m\n\u001b[1;32m----> 1\u001b[0m \u001b[38;5;28mlen\u001b[39m \u001b[38;5;241m=\u001b[39m(l3)\n",
      "\u001b[1;31mNameError\u001b[0m: name 'l3' is not defined"
     ]
    }
   ],
   "source": [
    "len=(l3)\n"
   ]
  },
  {
   "cell_type": "code",
   "execution_count": 11,
   "id": "7daa3d2a-c7c5-4c01-ad75-3f363e1cf23c",
   "metadata": {},
   "outputs": [
    {
     "ename": "NameError",
     "evalue": "name 'l3' is not defined",
     "output_type": "error",
     "traceback": [
      "\u001b[1;31m---------------------------------------------------------------------------\u001b[0m",
      "\u001b[1;31mNameError\u001b[0m                                 Traceback (most recent call last)",
      "Cell \u001b[1;32mIn[11], line 1\u001b[0m\n\u001b[1;32m----> 1\u001b[0m l3\u001b[38;5;241m.\u001b[39mappend(\u001b[38;5;241m25\u001b[39m)\n",
      "\u001b[1;31mNameError\u001b[0m: name 'l3' is not defined"
     ]
    }
   ],
   "source": [
    "l3.append(25)"
   ]
  },
  {
   "cell_type": "code",
   "execution_count": 13,
   "id": "cb5c8860-b9f6-4c52-af67-a11668e946fa",
   "metadata": {},
   "outputs": [],
   "source": [
    "l3 = [1,2,3,4,5,6,7,8,9,10]"
   ]
  },
  {
   "cell_type": "code",
   "execution_count": 17,
   "id": "c047094b-902f-49b1-ba40-3dcb22f65dde",
   "metadata": {},
   "outputs": [],
   "source": [
    "l3.append(25)"
   ]
  },
  {
   "cell_type": "code",
   "execution_count": 1,
   "id": "173b0bde-d72a-493f-a8f9-ade8cd4b965d",
   "metadata": {},
   "outputs": [
    {
     "ename": "NameError",
     "evalue": "name 'l3' is not defined",
     "output_type": "error",
     "traceback": [
      "\u001b[1;31m---------------------------------------------------------------------------\u001b[0m",
      "\u001b[1;31mNameError\u001b[0m                                 Traceback (most recent call last)",
      "Cell \u001b[1;32mIn[1], line 1\u001b[0m\n\u001b[1;32m----> 1\u001b[0m \u001b[38;5;28mprint\u001b[39m\u001b[38;5;241m=\u001b[39ml3\n",
      "\u001b[1;31mNameError\u001b[0m: name 'l3' is not defined"
     ]
    }
   ],
   "source": [
    "print=l3"
   ]
  },
  {
   "cell_type": "code",
   "execution_count": 3,
   "id": "13fa925f-66d2-4a09-b0f8-3fc5fbe9e43f",
   "metadata": {},
   "outputs": [],
   "source": [
    "l3 = [1,2,3,4,5,6,7,8,9,10]\n"
   ]
  },
  {
   "cell_type": "code",
   "execution_count": 11,
   "id": "74b28b68-54bf-4898-a796-545fecad3802",
   "metadata": {},
   "outputs": [],
   "source": [
    "l3.append(25)"
   ]
  },
  {
   "cell_type": "code",
   "execution_count": 9,
   "id": "3a53f369-7098-41ac-be3c-bad23a697080",
   "metadata": {},
   "outputs": [
    {
     "name": "stdout",
     "output_type": "stream",
     "text": [
      "<class 'list'>\n"
     ]
    }
   ],
   "source": [
    "print(type(l3))"
   ]
  },
  {
   "cell_type": "code",
   "execution_count": 13,
   "id": "40140e68-c961-43f1-992e-75ef0b810c8b",
   "metadata": {},
   "outputs": [
    {
     "data": {
      "text/plain": [
       "[1, 2, 3, 4, 5, 6, 7, 8, 9, 10, 25, 25, 25]"
      ]
     },
     "execution_count": 13,
     "metadata": {},
     "output_type": "execute_result"
    }
   ],
   "source": [
    "l3"
   ]
  },
  {
   "cell_type": "code",
   "execution_count": 15,
   "id": "f33bc69f-a34e-49b9-8a01-709daa28d8dc",
   "metadata": {},
   "outputs": [],
   "source": [
    "l3.insert(4,70)"
   ]
  },
  {
   "cell_type": "code",
   "execution_count": 17,
   "id": "cdc0589e-41fb-47bc-8f6f-06c40324cd3e",
   "metadata": {},
   "outputs": [
    {
     "data": {
      "text/plain": [
       "[1, 2, 3, 4, 70, 5, 6, 7, 8, 9, 10, 25, 25, 25]"
      ]
     },
     "execution_count": 17,
     "metadata": {},
     "output_type": "execute_result"
    }
   ],
   "source": [
    "l3"
   ]
  },
  {
   "cell_type": "code",
   "execution_count": 19,
   "id": "13fba6d1-7909-4339-83c0-34fef66f08c0",
   "metadata": {},
   "outputs": [
    {
     "ename": "TypeError",
     "evalue": "insert expected 2 arguments, got 1",
     "output_type": "error",
     "traceback": [
      "\u001b[1;31m---------------------------------------------------------------------------\u001b[0m",
      "\u001b[1;31mTypeError\u001b[0m                                 Traceback (most recent call last)",
      "Cell \u001b[1;32mIn[19], line 1\u001b[0m\n\u001b[1;32m----> 1\u001b[0m l3\u001b[38;5;241m.\u001b[39minsert(\u001b[38;5;241m7\u001b[39m)\n",
      "\u001b[1;31mTypeError\u001b[0m: insert expected 2 arguments, got 1"
     ]
    }
   ],
   "source": [
    "l3.insert(7)"
   ]
  },
  {
   "cell_type": "code",
   "execution_count": 21,
   "id": "bfd425a5-7ab0-4322-973e-b4ab7091111f",
   "metadata": {},
   "outputs": [],
   "source": [
    "l3.insert(6,[70])"
   ]
  },
  {
   "cell_type": "code",
   "execution_count": 23,
   "id": "9c4ca705-a13e-407d-bf35-327882d09c07",
   "metadata": {},
   "outputs": [
    {
     "data": {
      "text/plain": [
       "[1, 2, 3, 4, 70, 5, [70], 6, 7, 8, 9, 10, 25, 25, 25]"
      ]
     },
     "execution_count": 23,
     "metadata": {},
     "output_type": "execute_result"
    }
   ],
   "source": [
    "l3"
   ]
  },
  {
   "cell_type": "code",
   "execution_count": 37,
   "id": "12070896-7138-4967-85ba-54d310f555e1",
   "metadata": {},
   "outputs": [],
   "source": [
    "l3.extend([3,44,56])"
   ]
  },
  {
   "cell_type": "code",
   "execution_count": 27,
   "id": "cac121c8-56ad-415a-b670-016c072ac73a",
   "metadata": {},
   "outputs": [
    {
     "data": {
      "text/plain": [
       "[1, 2, 3, 4, 70, 5, [70], 6, 7, 8, 9, 10, 25, 25, 25, 33, 44, 56]"
      ]
     },
     "execution_count": 27,
     "metadata": {},
     "output_type": "execute_result"
    }
   ],
   "source": [
    "l3"
   ]
  },
  {
   "cell_type": "code",
   "execution_count": 31,
   "id": "92bcf273-c773-4553-953f-552a2e499e55",
   "metadata": {},
   "outputs": [
    {
     "data": {
      "text/plain": [
       "[1, 2, 3, 4, 70, 5, [70], 6, 7, 8, 9, 10, 25, 25, 25, 33, 44, 56, 3, 44, 56]"
      ]
     },
     "execution_count": 31,
     "metadata": {},
     "output_type": "execute_result"
    }
   ],
   "source": [
    "l3"
   ]
  },
  {
   "cell_type": "code",
   "execution_count": 39,
   "id": "0d8c21f5-eec1-40a3-876e-804dfce0f3a1",
   "metadata": {},
   "outputs": [
    {
     "ename": "TypeError",
     "evalue": "list.extend() takes exactly one argument (3 given)",
     "output_type": "error",
     "traceback": [
      "\u001b[1;31m---------------------------------------------------------------------------\u001b[0m",
      "\u001b[1;31mTypeError\u001b[0m                                 Traceback (most recent call last)",
      "Cell \u001b[1;32mIn[39], line 1\u001b[0m\n\u001b[1;32m----> 1\u001b[0m l3\u001b[38;5;241m.\u001b[39mextend(\u001b[38;5;241m3\u001b[39m,\u001b[38;5;241m44\u001b[39m,\u001b[38;5;241m56\u001b[39m)\n",
      "\u001b[1;31mTypeError\u001b[0m: list.extend() takes exactly one argument (3 given)"
     ]
    }
   ],
   "source": [
    "l3.extend(3,44,56)"
   ]
  },
  {
   "cell_type": "code",
   "execution_count": 3,
   "id": "e56e33c4-2abc-45a8-a90d-ed9004748689",
   "metadata": {},
   "outputs": [
    {
     "ename": "NameError",
     "evalue": "name 'l3' is not defined",
     "output_type": "error",
     "traceback": [
      "\u001b[1;31m---------------------------------------------------------------------------\u001b[0m",
      "\u001b[1;31mNameError\u001b[0m                                 Traceback (most recent call last)",
      "Cell \u001b[1;32mIn[3], line 1\u001b[0m\n\u001b[1;32m----> 1\u001b[0m l3\u001b[38;5;241m.\u001b[39mpop([\u001b[38;5;241m3\u001b[39m,\u001b[38;5;241m44\u001b[39m,\u001b[38;5;241m56\u001b[39m])\n",
      "\u001b[1;31mNameError\u001b[0m: name 'l3' is not defined"
     ]
    }
   ],
   "source": [
    "\n",
    "l3.pop([3,44,56])\n"
   ]
  },
  {
   "cell_type": "code",
   "execution_count": 5,
   "id": "734ef823-228e-4f46-af50-add0d3c93bf3",
   "metadata": {},
   "outputs": [
    {
     "ename": "NameError",
     "evalue": "name 'l3' is not defined",
     "output_type": "error",
     "traceback": [
      "\u001b[1;31m---------------------------------------------------------------------------\u001b[0m",
      "\u001b[1;31mNameError\u001b[0m                                 Traceback (most recent call last)",
      "Cell \u001b[1;32mIn[5], line 1\u001b[0m\n\u001b[1;32m----> 1\u001b[0m l3\n",
      "\u001b[1;31mNameError\u001b[0m: name 'l3' is not defined"
     ]
    }
   ],
   "source": [
    "l3"
   ]
  },
  {
   "cell_type": "code",
   "execution_count": 7,
   "id": "54f0453d-cc93-4dc1-90f9-2d6619e8d391",
   "metadata": {},
   "outputs": [],
   "source": [
    "l3 = [1,2,3,4,5,6,7,8,9,10]\n"
   ]
  },
  {
   "cell_type": "code",
   "execution_count": 9,
   "id": "70b6a45d-24f3-4243-8311-ee0f632e7e60",
   "metadata": {},
   "outputs": [
    {
     "data": {
      "text/plain": [
       "[1, 2, 3, 4, 5, 6, 7, 8, 9, 10]"
      ]
     },
     "execution_count": 9,
     "metadata": {},
     "output_type": "execute_result"
    }
   ],
   "source": [
    "l3"
   ]
  },
  {
   "cell_type": "code",
   "execution_count": 11,
   "id": "40966e15-7e8f-4b79-99f7-1bdb0eafeeab",
   "metadata": {},
   "outputs": [
    {
     "ename": "TypeError",
     "evalue": "'list' object cannot be interpreted as an integer",
     "output_type": "error",
     "traceback": [
      "\u001b[1;31m---------------------------------------------------------------------------\u001b[0m",
      "\u001b[1;31mTypeError\u001b[0m                                 Traceback (most recent call last)",
      "Cell \u001b[1;32mIn[11], line 1\u001b[0m\n\u001b[1;32m----> 1\u001b[0m l3\u001b[38;5;241m.\u001b[39mpop([\u001b[38;5;241m3\u001b[39m,\u001b[38;5;241m44\u001b[39m,\u001b[38;5;241m56\u001b[39m])\n",
      "\u001b[1;31mTypeError\u001b[0m: 'list' object cannot be interpreted as an integer"
     ]
    }
   ],
   "source": [
    "\n",
    "l3.pop([3,44,56])\n"
   ]
  },
  {
   "cell_type": "code",
   "execution_count": 13,
   "id": "0deea890-23ed-44ae-865b-539ede87337b",
   "metadata": {},
   "outputs": [
    {
     "data": {
      "text/plain": [
       "[1, 2, 3, 4, 5, 6, 7, 8, 9, 10]"
      ]
     },
     "execution_count": 13,
     "metadata": {},
     "output_type": "execute_result"
    }
   ],
   "source": [
    "l3"
   ]
  },
  {
   "cell_type": "code",
   "execution_count": 19,
   "id": "381f853f-d845-4fff-ba09-376e678a5f0f",
   "metadata": {},
   "outputs": [
    {
     "data": {
      "text/plain": [
       "9"
      ]
     },
     "execution_count": 19,
     "metadata": {},
     "output_type": "execute_result"
    }
   ],
   "source": [
    "l3.pop(8)"
   ]
  },
  {
   "cell_type": "code",
   "execution_count": 21,
   "id": "2b2c3fcb-29cf-47ca-ba9d-1ba021792972",
   "metadata": {},
   "outputs": [
    {
     "ename": "TypeError",
     "evalue": "list.extend() takes exactly one argument (3 given)",
     "output_type": "error",
     "traceback": [
      "\u001b[1;31m---------------------------------------------------------------------------\u001b[0m",
      "\u001b[1;31mTypeError\u001b[0m                                 Traceback (most recent call last)",
      "Cell \u001b[1;32mIn[21], line 1\u001b[0m\n\u001b[1;32m----> 1\u001b[0m l3\u001b[38;5;241m.\u001b[39mextend(\u001b[38;5;241m3\u001b[39m,\u001b[38;5;241m44\u001b[39m,\u001b[38;5;241m56\u001b[39m)\n",
      "\u001b[1;31mTypeError\u001b[0m: list.extend() takes exactly one argument (3 given)"
     ]
    }
   ],
   "source": [
    "l3.extend(3,44,56)"
   ]
  },
  {
   "cell_type": "code",
   "execution_count": 23,
   "id": "b5879bcb-c372-496e-8cc6-ac4be7f8ed29",
   "metadata": {},
   "outputs": [
    {
     "data": {
      "text/plain": [
       "[1, 2, 3, 4, 5, 6, 7, 8, 10]"
      ]
     },
     "execution_count": 23,
     "metadata": {},
     "output_type": "execute_result"
    }
   ],
   "source": [
    "l3"
   ]
  },
  {
   "cell_type": "code",
   "execution_count": 25,
   "id": "e22717ec-66f8-41f5-9dfa-c808a365fba2",
   "metadata": {},
   "outputs": [
    {
     "ename": "TypeError",
     "evalue": "list.extend() takes exactly one argument (3 given)",
     "output_type": "error",
     "traceback": [
      "\u001b[1;31m---------------------------------------------------------------------------\u001b[0m",
      "\u001b[1;31mTypeError\u001b[0m                                 Traceback (most recent call last)",
      "Cell \u001b[1;32mIn[25], line 1\u001b[0m\n\u001b[1;32m----> 1\u001b[0m l3\u001b[38;5;241m.\u001b[39mextend(\u001b[38;5;241m3\u001b[39m,\u001b[38;5;241m44\u001b[39m,\u001b[38;5;241m56\u001b[39m)\n",
      "\u001b[1;31mTypeError\u001b[0m: list.extend() takes exactly one argument (3 given)"
     ]
    }
   ],
   "source": [
    "l3.extend(3,44,56)"
   ]
  },
  {
   "cell_type": "code",
   "execution_count": 27,
   "id": "0d2cd30f-9d05-49e4-90c7-7ea1ccf7ce8a",
   "metadata": {},
   "outputs": [
    {
     "ename": "TypeError",
     "evalue": "'builtin_function_or_method' object is not subscriptable",
     "output_type": "error",
     "traceback": [
      "\u001b[1;31m---------------------------------------------------------------------------\u001b[0m",
      "\u001b[1;31mTypeError\u001b[0m                                 Traceback (most recent call last)",
      "Cell \u001b[1;32mIn[27], line 1\u001b[0m\n\u001b[1;32m----> 1\u001b[0m l3\u001b[38;5;241m.\u001b[39mremove[\u001b[38;5;241m5\u001b[39m]\n",
      "\u001b[1;31mTypeError\u001b[0m: 'builtin_function_or_method' object is not subscriptable"
     ]
    }
   ],
   "source": [
    "l3.remove[5]"
   ]
  },
  {
   "cell_type": "code",
   "execution_count": 29,
   "id": "7ef5cfb8-1db2-4d40-ac0f-8f9730a85458",
   "metadata": {},
   "outputs": [
    {
     "name": "stdout",
     "output_type": "stream",
     "text": [
      "<class 'list'>\n"
     ]
    }
   ],
   "source": [
    "print(type(l3))\n"
   ]
  },
  {
   "cell_type": "code",
   "execution_count": 33,
   "id": "6c56c3cd-417c-466e-bdf4-2af8e10c5e5c",
   "metadata": {},
   "outputs": [],
   "source": [
    "l3.remove(5)"
   ]
  },
  {
   "cell_type": "code",
   "execution_count": 35,
   "id": "068a632a-807f-48ed-8fb0-1608a6833ba7",
   "metadata": {},
   "outputs": [
    {
     "data": {
      "text/plain": [
       "[1, 2, 3, 4, 6, 7, 8, 10]"
      ]
     },
     "execution_count": 35,
     "metadata": {},
     "output_type": "execute_result"
    }
   ],
   "source": [
    "l3\n"
   ]
  },
  {
   "cell_type": "code",
   "execution_count": 39,
   "id": "a18d8864-a35c-4684-b6fc-5eacb7fa949c",
   "metadata": {},
   "outputs": [
    {
     "ename": "SyntaxError",
     "evalue": "invalid syntax (357601618.py, line 1)",
     "output_type": "error",
     "traceback": [
      "\u001b[1;36m  Cell \u001b[1;32mIn[39], line 1\u001b[1;36m\u001b[0m\n\u001b[1;33m    l3.del(7)\u001b[0m\n\u001b[1;37m       ^\u001b[0m\n\u001b[1;31mSyntaxError\u001b[0m\u001b[1;31m:\u001b[0m invalid syntax\n"
     ]
    }
   ],
   "source": [
    "del[l3"
   ]
  },
  {
   "cell_type": "code",
   "execution_count": 41,
   "id": "96b34cfc-1b3d-4a2d-bbc3-02bd6376b06c",
   "metadata": {},
   "outputs": [],
   "source": [
    "l3.clear()"
   ]
  },
  {
   "cell_type": "code",
   "execution_count": 43,
   "id": "d712dfc8-dae4-4218-acdd-7c859aaaeadc",
   "metadata": {},
   "outputs": [
    {
     "data": {
      "text/plain": [
       "[]"
      ]
     },
     "execution_count": 43,
     "metadata": {},
     "output_type": "execute_result"
    }
   ],
   "source": [
    "l3"
   ]
  },
  {
   "cell_type": "code",
   "execution_count": 45,
   "id": "589b25c4-a879-4753-a030-97de55fcfda5",
   "metadata": {},
   "outputs": [],
   "source": [
    "l4=[12,2,3,4,5,6,6,7,8,8,]"
   ]
  },
  {
   "cell_type": "code",
   "execution_count": 47,
   "id": "4257a4f9-f106-421d-8cbb-33f03e7e89eb",
   "metadata": {},
   "outputs": [
    {
     "data": {
      "text/plain": [
       "[12, 2, 3, 4, 5, 6, 6, 7, 8, 8]"
      ]
     },
     "execution_count": 47,
     "metadata": {},
     "output_type": "execute_result"
    }
   ],
   "source": [
    "l4"
   ]
  },
  {
   "cell_type": "code",
   "execution_count": 49,
   "id": "ff3d8799-8297-4691-8acb-974f32cbad0a",
   "metadata": {},
   "outputs": [],
   "source": [
    "del l4"
   ]
  },
  {
   "cell_type": "code",
   "execution_count": 51,
   "id": "11869193-2738-4c96-a8d8-9c38a385d861",
   "metadata": {},
   "outputs": [
    {
     "ename": "NameError",
     "evalue": "name 'l4' is not defined",
     "output_type": "error",
     "traceback": [
      "\u001b[1;31m---------------------------------------------------------------------------\u001b[0m",
      "\u001b[1;31mNameError\u001b[0m                                 Traceback (most recent call last)",
      "Cell \u001b[1;32mIn[51], line 1\u001b[0m\n\u001b[1;32m----> 1\u001b[0m l4\n",
      "\u001b[1;31mNameError\u001b[0m: name 'l4' is not defined"
     ]
    }
   ],
   "source": [
    "l4"
   ]
  },
  {
   "cell_type": "code",
   "execution_count": 53,
   "id": "20a47283-0d6a-484d-9128-4b6ddc1fa504",
   "metadata": {},
   "outputs": [],
   "source": [
    "l4=[12,2,3,4,5,6,6,7,8,8,]"
   ]
  },
  {
   "cell_type": "code",
   "execution_count": 55,
   "id": "9bbb0766-84ef-458c-982f-967a41dcd37a",
   "metadata": {},
   "outputs": [
    {
     "data": {
      "text/plain": [
       "[12, 2, 3, 4, 5, 6, 6, 7, 8, 8]"
      ]
     },
     "execution_count": 55,
     "metadata": {},
     "output_type": "execute_result"
    }
   ],
   "source": [
    "l4"
   ]
  },
  {
   "cell_type": "code",
   "execution_count": 57,
   "id": "c3533712-00c6-4901-9cb2-1c08c320b184",
   "metadata": {},
   "outputs": [],
   "source": [
    "l4.remove(5)"
   ]
  },
  {
   "cell_type": "code",
   "execution_count": 59,
   "id": "31429464-54cb-4047-9c03-7de769f1fd5c",
   "metadata": {},
   "outputs": [
    {
     "data": {
      "text/plain": [
       "[12, 2, 3, 4, 6, 6, 7, 8, 8]"
      ]
     },
     "execution_count": 59,
     "metadata": {},
     "output_type": "execute_result"
    }
   ],
   "source": [
    "l4"
   ]
  },
  {
   "cell_type": "code",
   "execution_count": 61,
   "id": "057cd2cd-fe83-4bed-b17a-38da3e23249b",
   "metadata": {},
   "outputs": [
    {
     "ename": "AttributeError",
     "evalue": "'list' object has no attribute 'delete'",
     "output_type": "error",
     "traceback": [
      "\u001b[1;31m---------------------------------------------------------------------------\u001b[0m",
      "\u001b[1;31mAttributeError\u001b[0m                            Traceback (most recent call last)",
      "Cell \u001b[1;32mIn[61], line 1\u001b[0m\n\u001b[1;32m----> 1\u001b[0m l4\u001b[38;5;241m.\u001b[39mdelete()\n",
      "\u001b[1;31mAttributeError\u001b[0m: 'list' object has no attribute 'delete'"
     ]
    }
   ],
   "source": [
    "l4.delete()"
   ]
  },
  {
   "cell_type": "code",
   "execution_count": 63,
   "id": "832b4478-f349-4f5b-b307-883bcc0da80a",
   "metadata": {},
   "outputs": [
    {
     "data": {
      "text/plain": [
       "8"
      ]
     },
     "execution_count": 63,
     "metadata": {},
     "output_type": "execute_result"
    }
   ],
   "source": [
    "l4.pop(8)"
   ]
  },
  {
   "cell_type": "code",
   "execution_count": 65,
   "id": "447f7bc5-4dd3-429c-97f7-872049c49db2",
   "metadata": {},
   "outputs": [
    {
     "data": {
      "text/plain": [
       "[12, 2, 3, 4, 6, 6, 7, 8]"
      ]
     },
     "execution_count": 65,
     "metadata": {},
     "output_type": "execute_result"
    }
   ],
   "source": [
    "l4"
   ]
  },
  {
   "cell_type": "code",
   "execution_count": 69,
   "id": "16510162-ae6c-467a-b825-d98cd2e0dea9",
   "metadata": {},
   "outputs": [],
   "source": [
    "l4=[12,2,3,4,5,6,6,7,8,8,]"
   ]
  },
  {
   "cell_type": "code",
   "execution_count": 71,
   "id": "226fac13-575f-440a-b0db-58a758fb03a7",
   "metadata": {},
   "outputs": [
    {
     "data": {
      "text/plain": [
       "[12, 2, 3, 4, 5, 6, 6, 7, 8, 8]"
      ]
     },
     "execution_count": 71,
     "metadata": {},
     "output_type": "execute_result"
    }
   ],
   "source": [
    "l4"
   ]
  },
  {
   "cell_type": "code",
   "execution_count": 73,
   "id": "859ce2d8-7feb-4b15-882b-647f4bf7f704",
   "metadata": {},
   "outputs": [],
   "source": [
    "l4[3]='aaa'"
   ]
  },
  {
   "cell_type": "code",
   "execution_count": 75,
   "id": "e4423a81-00f8-407e-b4db-399b97cddcbd",
   "metadata": {},
   "outputs": [
    {
     "data": {
      "text/plain": [
       "14"
      ]
     },
     "execution_count": 75,
     "metadata": {},
     "output_type": "execute_result"
    }
   ],
   "source": [
    "14"
   ]
  },
  {
   "cell_type": "code",
   "execution_count": 77,
   "id": "3d1938a7-f225-4c41-8c24-4871e0495a86",
   "metadata": {},
   "outputs": [
    {
     "data": {
      "text/plain": [
       "[12, 2, 3, 'aaa', 5, 6, 6, 7, 8, 8]"
      ]
     },
     "execution_count": 77,
     "metadata": {},
     "output_type": "execute_result"
    }
   ],
   "source": [
    "l4"
   ]
  },
  {
   "cell_type": "code",
   "execution_count": 79,
   "id": "2b237f15-4889-4a48-9c3d-4f75e23c5119",
   "metadata": {},
   "outputs": [],
   "source": [
    "l6=1,2,3,4,5\n",
    "l7=5,6,7,8,5"
   ]
  },
  {
   "cell_type": "code",
   "execution_count": 85,
   "id": "8085f7d5-134a-4365-841a-a75b64bdbe7d",
   "metadata": {},
   "outputs": [],
   "source": [
    "list4=l6+l7"
   ]
  },
  {
   "cell_type": "code",
   "execution_count": 87,
   "id": "80f42a23-f5c0-4e97-9a22-4e84be73ebdc",
   "metadata": {},
   "outputs": [
    {
     "data": {
      "text/plain": [
       "(5, 6, 7, 8, 5, 5, 6, 7, 8, 5)"
      ]
     },
     "execution_count": 87,
     "metadata": {},
     "output_type": "execute_result"
    }
   ],
   "source": [
    "list4"
   ]
  },
  {
   "cell_type": "code",
   "execution_count": 99,
   "id": "3261082f-ca3c-40fc-a7de-b95e61e3a580",
   "metadata": {},
   "outputs": [
    {
     "ename": "TypeError",
     "evalue": "argument of type 'int' is not iterable",
     "output_type": "error",
     "traceback": [
      "\u001b[1;31m---------------------------------------------------------------------------\u001b[0m",
      "\u001b[1;31mTypeError\u001b[0m                                 Traceback (most recent call last)",
      "Cell \u001b[1;32mIn[99], line 1\u001b[0m\n\u001b[1;32m----> 1\u001b[0m \u001b[38;5;241m4\u001b[39m \u001b[38;5;129;01min\u001b[39;00m \u001b[38;5;241m3\u001b[39m\n",
      "\u001b[1;31mTypeError\u001b[0m: argument of type 'int' is not iterable"
     ]
    }
   ],
   "source": [
    "4 in 3\n"
   ]
  },
  {
   "cell_type": "code",
   "execution_count": 101,
   "id": "fb05c8a2-f700-4800-b8da-1af2cb1904fa",
   "metadata": {},
   "outputs": [],
   "source": [
    "l3.reverse()"
   ]
  },
  {
   "cell_type": "code",
   "execution_count": 103,
   "id": "e335d426-c75c-4f3b-a8aa-56208880133d",
   "metadata": {},
   "outputs": [
    {
     "data": {
      "text/plain": [
       "[]"
      ]
     },
     "execution_count": 103,
     "metadata": {},
     "output_type": "execute_result"
    }
   ],
   "source": [
    "l3"
   ]
  },
  {
   "cell_type": "code",
   "execution_count": 105,
   "id": "ba9639db-3156-4f5e-a740-58a3eca282b3",
   "metadata": {},
   "outputs": [],
   "source": [
    "l4.reverse()"
   ]
  },
  {
   "cell_type": "code",
   "execution_count": 107,
   "id": "300e199b-c94d-415b-a8ca-891aff7ca0e1",
   "metadata": {},
   "outputs": [
    {
     "data": {
      "text/plain": [
       "[8, 8, 7, 6, 6, 5, 'aaa', 3, 2, 12]"
      ]
     },
     "execution_count": 107,
     "metadata": {},
     "output_type": "execute_result"
    }
   ],
   "source": [
    "l4\n"
   ]
  },
  {
   "cell_type": "code",
   "execution_count": 109,
   "id": "bf51708a-8547-4925-adb3-4210a02014de",
   "metadata": {},
   "outputs": [
    {
     "data": {
      "text/plain": [
       "False"
      ]
     },
     "execution_count": 109,
     "metadata": {},
     "output_type": "execute_result"
    }
   ],
   "source": [
    "4 in l4"
   ]
  },
  {
   "cell_type": "code",
   "execution_count": 111,
   "id": "d384a04a-009e-4a9c-92f3-da2c7d989d3b",
   "metadata": {},
   "outputs": [
    {
     "data": {
      "text/plain": [
       "True"
      ]
     },
     "execution_count": 111,
     "metadata": {},
     "output_type": "execute_result"
    }
   ],
   "source": [
    "5 in l6"
   ]
  },
  {
   "cell_type": "code",
   "execution_count": 113,
   "id": "4caf0336-c37a-4df8-b77d-081950d473a1",
   "metadata": {},
   "outputs": [
    {
     "ename": "SyntaxError",
     "evalue": "invalid decimal literal (3442050029.py, line 3)",
     "output_type": "error",
     "traceback": [
      "\u001b[1;36m  Cell \u001b[1;32mIn[113], line 3\u001b[1;36m\u001b[0m\n\u001b[1;33m    15.append(list[i])\u001b[0m\n\u001b[1;37m      ^\u001b[0m\n\u001b[1;31mSyntaxError\u001b[0m\u001b[1;31m:\u001b[0m invalid decimal literal\n"
     ]
    }
   ],
   "source": [
    "15=[]\n",
    "for i in range(len(list1)-1,-1,-1):\n",
    "    15.append(list[i])"
   ]
  },
  {
   "cell_type": "code",
   "execution_count": 115,
   "id": "95cf5150-c954-4cc6-9f6d-7d602c571f33",
   "metadata": {},
   "outputs": [],
   "source": [
    "l5=[2,3,5,6,7,8,9,10]"
   ]
  },
  {
   "cell_type": "code",
   "execution_count": 117,
   "id": "5c90382b-e966-4ead-ab66-ae5c30a0bca9",
   "metadata": {},
   "outputs": [
    {
     "data": {
      "text/plain": [
       "[2, 3, 5, 6, 7, 8, 9, 10]"
      ]
     },
     "execution_count": 117,
     "metadata": {},
     "output_type": "execute_result"
    }
   ],
   "source": [
    "l5"
   ]
  },
  {
   "cell_type": "code",
   "execution_count": 129,
   "id": "3461a128-5b92-4d92-a2fc-0c15f1fd8462",
   "metadata": {},
   "outputs": [],
   "source": [
    "l5=[]\n",
    "for i in range(len(l5)-1,-1,-1):\n",
    "    l5.append(l5[i])"
   ]
  },
  {
   "cell_type": "code",
   "execution_count": 131,
   "id": "7064dd0b-8244-4e8d-97c3-e91d14129a60",
   "metadata": {},
   "outputs": [
    {
     "data": {
      "text/plain": [
       "[]"
      ]
     },
     "execution_count": 131,
     "metadata": {},
     "output_type": "execute_result"
    }
   ],
   "source": [
    "l5"
   ]
  },
  {
   "cell_type": "code",
   "execution_count": 133,
   "id": "75b14deb-306a-4830-bc62-0067c0ee0d57",
   "metadata": {},
   "outputs": [
    {
     "data": {
      "text/plain": [
       "[]"
      ]
     },
     "execution_count": 133,
     "metadata": {},
     "output_type": "execute_result"
    }
   ],
   "source": [
    "l5"
   ]
  },
  {
   "cell_type": "code",
   "execution_count": null,
   "id": "775b0561-f775-4f17-bd6e-67233790570e",
   "metadata": {},
   "outputs": [],
   "source": []
  }
 ],
 "metadata": {
  "kernelspec": {
   "display_name": "Python 3 (ipykernel)",
   "language": "python",
   "name": "python3"
  },
  "language_info": {
   "codemirror_mode": {
    "name": "ipython",
    "version": 3
   },
   "file_extension": ".py",
   "mimetype": "text/x-python",
   "name": "python",
   "nbconvert_exporter": "python",
   "pygments_lexer": "ipython3",
   "version": "3.12.4"
  }
 },
 "nbformat": 4,
 "nbformat_minor": 5
}
