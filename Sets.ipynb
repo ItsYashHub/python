{
 "cells": [
  {
   "cell_type": "code",
   "execution_count": 3,
   "id": "4c482e86-410a-4ab2-bd42-87cf99e48bf2",
   "metadata": {},
   "outputs": [],
   "source": [
    "set1={}\n"
   ]
  },
  {
   "cell_type": "code",
   "execution_count": 5,
   "id": "abdfb02d-5f07-4055-8f07-557f1835a0c2",
   "metadata": {},
   "outputs": [
    {
     "data": {
      "text/plain": [
       "{}"
      ]
     },
     "execution_count": 5,
     "metadata": {},
     "output_type": "execute_result"
    }
   ],
   "source": [
    "set1"
   ]
  },
  {
   "cell_type": "code",
   "execution_count": 9,
   "id": "b538f846-398c-4c45-b1d7-b684cb6e5198",
   "metadata": {},
   "outputs": [
    {
     "data": {
      "text/plain": [
       "dict"
      ]
     },
     "execution_count": 9,
     "metadata": {},
     "output_type": "execute_result"
    }
   ],
   "source": [
    "type(set1)"
   ]
  },
  {
   "cell_type": "code",
   "execution_count": 13,
   "id": "b741120d-ac4d-437f-bfa9-8e6d20a8610f",
   "metadata": {},
   "outputs": [
    {
     "data": {
      "text/plain": [
       "set"
      ]
     },
     "execution_count": 13,
     "metadata": {},
     "output_type": "execute_result"
    }
   ],
   "source": [
    "myset = set() # Create an empty set\n",
    "(type(myset))\n"
   ]
  },
  {
   "cell_type": "code",
   "execution_count": 15,
   "id": "fd3674c7-180e-4668-8fcd-0ec40e00b84a",
   "metadata": {},
   "outputs": [],
   "source": [
    "myset  = {1,2,3,4,5,6,7,8,9,10,}"
   ]
  },
  {
   "cell_type": "code",
   "execution_count": 17,
   "id": "d81f994b-b5ac-48e1-b00b-934c8feb9239",
   "metadata": {},
   "outputs": [
    {
     "data": {
      "text/plain": [
       "{1, 2, 3, 4, 5, 6, 7, 8, 9, 10}"
      ]
     },
     "execution_count": 17,
     "metadata": {},
     "output_type": "execute_result"
    }
   ],
   "source": [
    "myset"
   ]
  },
  {
   "cell_type": "code",
   "execution_count": 19,
   "id": "1e7a7159-0f33-45e0-b1fd-4e0154f5965e",
   "metadata": {},
   "outputs": [
    {
     "data": {
      "text/plain": [
       "set"
      ]
     },
     "execution_count": 19,
     "metadata": {},
     "output_type": "execute_result"
    }
   ],
   "source": [
    "type(myset)"
   ]
  },
  {
   "cell_type": "code",
   "execution_count": 23,
   "id": "6cb30268-7d51-4eaa-a4da-6eccdfc8befe",
   "metadata": {},
   "outputs": [
    {
     "data": {
      "text/plain": [
       "10"
      ]
     },
     "execution_count": 23,
     "metadata": {},
     "output_type": "execute_result"
    }
   ],
   "source": [
    "len(myset)\n",
    "\n",
    "    "
   ]
  },
  {
   "cell_type": "code",
   "execution_count": 25,
   "id": "7fabc898-c1cf-46e2-afa0-3873e950061d",
   "metadata": {},
   "outputs": [
    {
     "data": {
      "text/plain": [
       "{1, 2, 3, 4, 5}"
      ]
     },
     "execution_count": 25,
     "metadata": {},
     "output_type": "execute_result"
    }
   ],
   "source": [
    "my_set  =  {1,1,2,2,3,4,5,5}\n",
    "my_set\t# Duplicate elements are not allowed."
   ]
  },
  {
   "cell_type": "code",
   "execution_count": 29,
   "id": "c6775fab-96f7-4f4a-a830-1ff12a441056",
   "metadata": {},
   "outputs": [],
   "source": [
    "myset2 = {'Data' , 'John' , 'Tyrion','John'} # Set of Strings\n",
    "\n"
   ]
  },
  {
   "cell_type": "code",
   "execution_count": 31,
   "id": "1fa1c1c4-a226-47a0-bcc7-e0b631b8d216",
   "metadata": {},
   "outputs": [
    {
     "data": {
      "text/plain": [
       "{'Data', 'John', 'Tyrion'}"
      ]
     },
     "execution_count": 31,
     "metadata": {},
     "output_type": "execute_result"
    }
   ],
   "source": [
    "myset2"
   ]
  },
  {
   "cell_type": "code",
   "execution_count": 33,
   "id": "ba1d0d5d-a970-4089-99cf-ff279d1ff83e",
   "metadata": {},
   "outputs": [],
   "source": [
    "myset1 = {1.79,2.08,3.99,4.56,5.45} # Set of float numbers\n",
    "\n"
   ]
  },
  {
   "cell_type": "code",
   "execution_count": 35,
   "id": "2b23260d-5c28-4c36-ab93-fd8f13785739",
   "metadata": {},
   "outputs": [
    {
     "data": {
      "text/plain": [
       "{1.79, 2.08, 3.99, 4.56, 5.45}"
      ]
     },
     "execution_count": 35,
     "metadata": {},
     "output_type": "execute_result"
    }
   ],
   "source": [
    "myset1"
   ]
  },
  {
   "cell_type": "code",
   "execution_count": 37,
   "id": "355ea132-2773-4acd-828c-79f509a1ee94",
   "metadata": {},
   "outputs": [],
   "source": [
    "myset3  =  {(11,  22,  32),10,20,  \"Hola\" }  #  Mixed  datatypes\n"
   ]
  },
  {
   "cell_type": "code",
   "execution_count": 39,
   "id": "0bd44479-7d04-4c69-9781-68f89be60d7c",
   "metadata": {},
   "outputs": [
    {
     "data": {
      "text/plain": [
       "{(11, 22, 32), 10, 20, 'Hola'}"
      ]
     },
     "execution_count": 39,
     "metadata": {},
     "output_type": "execute_result"
    }
   ],
   "source": [
    "myset3\n"
   ]
  },
  {
   "cell_type": "code",
   "execution_count": 41,
   "id": "417698f2-de09-4e86-824b-f1e3bac2b0fc",
   "metadata": {},
   "outputs": [],
   "source": [
    "##add & remove \n"
   ]
  },
  {
   "cell_type": "code",
   "execution_count": 43,
   "id": "cb1fb756-a93a-423c-bda6-14fbb280b912",
   "metadata": {},
   "outputs": [],
   "source": [
    "myset={2,3,4,5,6,7,8}"
   ]
  },
  {
   "cell_type": "code",
   "execution_count": 45,
   "id": "5f72f31f-335b-46fd-b5ff-cb720cbb2442",
   "metadata": {},
   "outputs": [],
   "source": [
    "myset.add('9')"
   ]
  },
  {
   "cell_type": "code",
   "execution_count": 47,
   "id": "a063e4bd-f5d2-4dad-8f17-a1a6d5adddc0",
   "metadata": {},
   "outputs": [
    {
     "data": {
      "text/plain": [
       "{2, 3, 4, 5, 6, 7, 8, '9'}"
      ]
     },
     "execution_count": 47,
     "metadata": {},
     "output_type": "execute_result"
    }
   ],
   "source": [
    "myset"
   ]
  },
  {
   "cell_type": "code",
   "execution_count": 99,
   "id": "15a95890-9e98-4186-a543-51d4f872e25d",
   "metadata": {},
   "outputs": [],
   "source": [
    "myset2={'TEN' , 'ELEVEN' , 'TWELVE'}\t\n",
    "\n"
   ]
  },
  {
   "cell_type": "code",
   "execution_count": 101,
   "id": "80bf4de4-a11b-4337-94c1-423ae429fcea",
   "metadata": {},
   "outputs": [
    {
     "data": {
      "text/plain": [
       "{'ELEVEN', 'TEN', 'TWELVE'}"
      ]
     },
     "execution_count": 101,
     "metadata": {},
     "output_type": "execute_result"
    }
   ],
   "source": [
    "myset2"
   ]
  },
  {
   "cell_type": "code",
   "execution_count": 103,
   "id": "5bf804d2-5890-455a-acc4-8027386f9279",
   "metadata": {},
   "outputs": [
    {
     "data": {
      "text/plain": [
       "{'ELEVEN', 'TEN', 'TWELVE', 'yash'}"
      ]
     },
     "execution_count": 103,
     "metadata": {},
     "output_type": "execute_result"
    }
   ],
   "source": [
    "myset2.update(['TEN' , 'yash' , 'TWELVE'])\t\n",
    "myset2\n",
    "\n",
    "\n"
   ]
  },
  {
   "cell_type": "code",
   "execution_count": 107,
   "id": "189ab539-7092-4c90-be33-ee345673ba63",
   "metadata": {},
   "outputs": [
    {
     "data": {
      "text/plain": [
       "{'ELEVEN', 'TWELVE', 'yash'}"
      ]
     },
     "execution_count": 107,
     "metadata": {},
     "output_type": "execute_result"
    }
   ],
   "source": [
    "myset2.remove('TEN')\n",
    "myset2\n"
   ]
  },
  {
   "cell_type": "code",
   "execution_count": 123,
   "id": "4d4fb0d2-d927-4839-bbc4-b634b8648bbb",
   "metadata": {},
   "outputs": [],
   "source": [
    "myset2.update([True])"
   ]
  },
  {
   "cell_type": "code",
   "execution_count": 125,
   "id": "dbf38c7c-36ed-4426-9e78-447e947b4a95",
   "metadata": {},
   "outputs": [
    {
     "data": {
      "text/plain": [
       "{'ELEVEN', False, 'TWELVE', True, 'i', 's', 'x', 'yash'}"
      ]
     },
     "execution_count": 125,
     "metadata": {},
     "output_type": "execute_result"
    }
   ],
   "source": [
    "myset2"
   ]
  },
  {
   "cell_type": "code",
   "execution_count": 135,
   "id": "92846ebb-3f9e-4687-84be-96d523a9363b",
   "metadata": {},
   "outputs": [],
   "source": [
    "myset2.update('raj')"
   ]
  },
  {
   "cell_type": "code",
   "execution_count": 137,
   "id": "7bbbf1d5-0bd8-4d23-8c38-cb11dbf62233",
   "metadata": {},
   "outputs": [
    {
     "data": {
      "text/plain": [
       "{' ', 'ELEVEN', False, 'TWELVE', True, 'a', 'i', 'j', 'r', 's', 'x', 'yash'}"
      ]
     },
     "execution_count": 137,
     "metadata": {},
     "output_type": "execute_result"
    }
   ],
   "source": [
    "myset2"
   ]
  },
  {
   "cell_type": "code",
   "execution_count": 139,
   "id": "5631c255-d375-45b9-8b37-1d1bd1c9112f",
   "metadata": {},
   "outputs": [],
   "source": [
    "A  =  {1,2,3,4,5}\n",
    "B  =  {4,5,6,7,8}\n",
    "C  =  {8,9,10}"
   ]
  },
  {
   "cell_type": "code",
   "execution_count": 141,
   "id": "fc3aa13f-8297-4e17-ba69-42c61df6549d",
   "metadata": {},
   "outputs": [
    {
     "data": {
      "text/plain": [
       "{1, 2, 3, 4, 5, 6, 7, 8}"
      ]
     },
     "execution_count": 141,
     "metadata": {},
     "output_type": "execute_result"
    }
   ],
   "source": [
    "A.union(B) "
   ]
  },
  {
   "cell_type": "code",
   "execution_count": 147,
   "id": "82970502-88aa-4213-be04-d65dbff7bd02",
   "metadata": {},
   "outputs": [
    {
     "data": {
      "text/plain": [
       "{4, 5, 6, 7, 8, 9, 10}"
      ]
     },
     "execution_count": 147,
     "metadata": {},
     "output_type": "execute_result"
    }
   ],
   "source": [
    "B.union(C) "
   ]
  },
  {
   "cell_type": "code",
   "execution_count": 149,
   "id": "de7367ee-6937-4ebd-b746-40f1a2eb6a80",
   "metadata": {},
   "outputs": [
    {
     "data": {
      "text/plain": [
       "{1, 2, 3, 4, 5, 8, 9, 10}"
      ]
     },
     "execution_count": 149,
     "metadata": {},
     "output_type": "execute_result"
    }
   ],
   "source": [
    "C.union(A) "
   ]
  },
  {
   "cell_type": "code",
   "execution_count": 157,
   "id": "915d6d28-4a5c-4719-8547-82977314351b",
   "metadata": {},
   "outputs": [
    {
     "data": {
      "text/plain": [
       "{1, 2, 3, 4, 5, 6, 7, 8, 9, 10}"
      ]
     },
     "execution_count": 157,
     "metadata": {},
     "output_type": "execute_result"
    }
   ],
   "source": [
    "A.union(B, C)"
   ]
  },
  {
   "cell_type": "code",
   "execution_count": 159,
   "id": "b9414d34-c5ad-44cd-9dac-ac2e5846f7b9",
   "metadata": {},
   "outputs": [],
   "source": [
    "A  = {1,2,3,4,5}\n",
    "B  = {4,5,6,7,8}"
   ]
  },
  {
   "cell_type": "code",
   "execution_count": 161,
   "id": "a65b836d-84be-4927-89b9-3ed84b33e45f",
   "metadata": {},
   "outputs": [
    {
     "data": {
      "text/plain": [
       "{4, 5}"
      ]
     },
     "execution_count": 161,
     "metadata": {},
     "output_type": "execute_result"
    }
   ],
   "source": [
    "A.intersection(B)  #Intersection  of  A  and  B"
   ]
  },
  {
   "cell_type": "code",
   "execution_count": 163,
   "id": "e3b8fc50-a661-460a-9f49-c9061b0634d1",
   "metadata": {},
   "outputs": [
    {
     "data": {
      "text/plain": [
       "{4, 5}"
      ]
     },
     "execution_count": 163,
     "metadata": {},
     "output_type": "execute_result"
    }
   ],
   "source": [
    "B.intersection(A)  "
   ]
  },
  {
   "cell_type": "code",
   "execution_count": 165,
   "id": "0ffc859b-bcaf-460c-9527-89e8b06b3ed7",
   "metadata": {},
   "outputs": [
    {
     "data": {
      "text/plain": [
       "{1, 2, 3}"
      ]
     },
     "execution_count": 165,
     "metadata": {},
     "output_type": "execute_result"
    }
   ],
   "source": [
    "A.difference(B)  "
   ]
  },
  {
   "cell_type": "code",
   "execution_count": 167,
   "id": "ca45cfca-1a30-4748-95ac-4a04124f62c7",
   "metadata": {},
   "outputs": [
    {
     "data": {
      "text/plain": [
       "{6, 7, 8}"
      ]
     },
     "execution_count": 167,
     "metadata": {},
     "output_type": "execute_result"
    }
   ],
   "source": [
    "B.difference(A)"
   ]
  },
  {
   "cell_type": "code",
   "execution_count": 173,
   "id": "9c99cdca-a207-4df5-bd82-eb7de9bc9ef1",
   "metadata": {},
   "outputs": [
    {
     "data": {
      "text/plain": [
       "{6, 7, 8}"
      ]
     },
     "execution_count": 173,
     "metadata": {},
     "output_type": "execute_result"
    }
   ],
   "source": [
    "A.difference(B)  \n",
    "B.difference(A)"
   ]
  },
  {
   "cell_type": "code",
   "execution_count": 177,
   "id": "636e3c1a-df8b-45ab-b33c-1af820e5171b",
   "metadata": {},
   "outputs": [
    {
     "data": {
      "text/plain": [
       "{1, 2, 3, 6, 7, 8}"
      ]
     },
     "execution_count": 177,
     "metadata": {},
     "output_type": "execute_result"
    }
   ],
   "source": [
    "A.difference(B).union(B.difference(A))"
   ]
  },
  {
   "cell_type": "code",
   "execution_count": 179,
   "id": "64261364-a2ae-453d-862e-fbdb11abc629",
   "metadata": {},
   "outputs": [
    {
     "data": {
      "text/plain": [
       "{1, 2, 3, 6, 7, 8}"
      ]
     },
     "execution_count": 179,
     "metadata": {},
     "output_type": "execute_result"
    }
   ],
   "source": [
    "B.difference(A).union(A.difference(B))"
   ]
  },
  {
   "cell_type": "code",
   "execution_count": 181,
   "id": "d1314c82-854b-4f99-8991-a94455ebae48",
   "metadata": {},
   "outputs": [],
   "source": [
    "#Dictionary is a mutable data type in Python.\n",
    "#A python dictionary is a collection of key and value pairs separated by a colon (:) & enclosed in curly braces {}.\n",
    "#Keys must be unique in a dictionary, duplicate values are allowed\n",
    "\n"
   ]
  },
  {
   "cell_type": "code",
   "execution_count": 183,
   "id": "eaac4048-1939-4616-8f3e-54e396cab219",
   "metadata": {},
   "outputs": [],
   "source": [
    "#Dictionary is a mutable data type in Python.\n",
    "#A python dictionary is a collection of key and value pairs separated by a colon (:) & enclosed in curly braces {}.\n",
    "#Keys must be unique in a dictionary, duplicate values are allowed\n"
   ]
  },
  {
   "cell_type": "code",
   "execution_count": null,
   "id": "964541ec-58ce-44f7-aa8b-ac9b1a5c6a67",
   "metadata": {},
   "outputs": [],
   "source": []
  }
 ],
 "metadata": {
  "kernelspec": {
   "display_name": "Python 3 (ipykernel)",
   "language": "python",
   "name": "python3"
  },
  "language_info": {
   "codemirror_mode": {
    "name": "ipython",
    "version": 3
   },
   "file_extension": ".py",
   "mimetype": "text/x-python",
   "name": "python",
   "nbconvert_exporter": "python",
   "pygments_lexer": "ipython3",
   "version": "3.12.4"
  }
 },
 "nbformat": 4,
 "nbformat_minor": 5
}
