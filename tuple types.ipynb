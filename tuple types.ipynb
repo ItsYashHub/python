{
 "cells": [
  {
   "cell_type": "code",
   "execution_count": 1,
   "id": "2244a54d-b69c-4705-95a5-a0701510082b",
   "metadata": {},
   "outputs": [],
   "source": [
    "# Basic Python Program using Tuples\n",
    "# Creating a tuple\n",
    "my_tuple = (\"apple\", \"banana\", \"cherry\")\n"
   ]
  },
  {
   "cell_type": "code",
   "execution_count": 3,
   "id": "b59e5398-553e-41d3-a5ca-c5dd5f095ae9",
   "metadata": {},
   "outputs": [
    {
     "data": {
      "text/plain": [
       "('apple', 'banana', 'cherry')"
      ]
     },
     "execution_count": 3,
     "metadata": {},
     "output_type": "execute_result"
    }
   ],
   "source": [
    "my_tuple"
   ]
  },
  {
   "cell_type": "code",
   "execution_count": 5,
   "id": "5aae4e42-e2ff-443d-a56a-9c6dcd7b4650",
   "metadata": {},
   "outputs": [
    {
     "name": "stdout",
     "output_type": "stream",
     "text": [
      "First element: apple\n",
      "Second element: banana\n",
      "Third element: cherry\n"
     ]
    }
   ],
   "source": [
    "# Accessing elements of a tuple\n",
    "print(\"First element:\", my_tuple[0])\n",
    "print(\"Second element:\", my_tuple[1])\n",
    "print(\"Third element:\", my_tuple[2])\n"
   ]
  },
  {
   "cell_type": "code",
   "execution_count": 7,
   "id": "d7f5a4e7-5926-4b78-8a19-a0fa8232ce26",
   "metadata": {},
   "outputs": [
    {
     "name": "stdout",
     "output_type": "stream",
     "text": [
      "Looping through tuple: apple\n",
      "Looping through tuple: banana\n",
      "Looping through tuple: cherry\n"
     ]
    }
   ],
   "source": [
    "# Trying to change the value of an element will result in an error\n",
    "# my_tuple[0] = \"orange\"  # This will raise a TypeError\n",
    "\n",
    "# Looping through a tuple\n",
    "for item in my_tuple:\n",
    "    print(\"Looping through tuple:\", item)\n",
    "\n"
   ]
  },
  {
   "cell_type": "code",
   "execution_count": 9,
   "id": "598faf18-6474-4f38-a929-8dae18664156",
   "metadata": {},
   "outputs": [
    {
     "name": "stdout",
     "output_type": "stream",
     "text": [
      "Banana is in the tuple\n"
     ]
    }
   ],
   "source": [
    "# Checking if an item exists in a tuple\n",
    "if \"banana\" in my_tuple:\n",
    "    print(\"Banana is in the tuple\")\n",
    "\n"
   ]
  },
  {
   "cell_type": "code",
   "execution_count": 11,
   "id": "efd3c18b-537e-471f-ad24-b824a7cdc474",
   "metadata": {},
   "outputs": [
    {
     "name": "stdout",
     "output_type": "stream",
     "text": [
      "Length of tuple: 3\n"
     ]
    }
   ],
   "source": [
    "# Tuple length\n",
    "print(\"Length of tuple:\", len(my_tuple))\n"
   ]
  },
  {
   "cell_type": "code",
   "execution_count": 13,
   "id": "9b1bcb1a-df75-477b-84ff-dcbb5f6e89cb",
   "metadata": {},
   "outputs": [
    {
     "name": "stdout",
     "output_type": "stream",
     "text": [
      "Mixed tuple: ('abc', 123, 45.67, True)\n"
     ]
    }
   ],
   "source": [
    "# Tuple with different data types\n",
    "mixed_tuple = (\"abc\", 123, 45.67, True)\n",
    "print(\"Mixed tuple:\", mixed_tuple)\n",
    "\n"
   ]
  },
  {
   "cell_type": "code",
   "execution_count": 15,
   "id": "78e84e74-e607-4409-8547-a853ba57b49b",
   "metadata": {},
   "outputs": [
    {
     "name": "stdout",
     "output_type": "stream",
     "text": [
      "Nested tuple: (('apple', 'banana', 'cherry'), ('abc', 123, 45.67, True))\n"
     ]
    }
   ],
   "source": [
    "# Nested tuples\n",
    "nested_tuple = (my_tuple, mixed_tuple)\n",
    "print(\"Nested tuple:\", nested_tuple)\n"
   ]
  },
  {
   "cell_type": "code",
   "execution_count": 17,
   "id": "cbe00154-43a2-4c71-9f43-5fea688cd583",
   "metadata": {},
   "outputs": [
    {
     "name": "stdout",
     "output_type": "stream",
     "text": [
      "Unpacked tuple: apple banana cherry\n"
     ]
    }
   ],
   "source": [
    "# Tuple unpacking\n",
    "fruit1, fruit2, fruit3 = my_tuple\n",
    "print(\"Unpacked tuple:\", fruit1, fruit2, fruit3)\n"
   ]
  },
  {
   "cell_type": "code",
   "execution_count": 19,
   "id": "40b94f88-a133-4b0c-b422-12e19300c706",
   "metadata": {},
   "outputs": [
    {
     "name": "stdout",
     "output_type": "stream",
     "text": [
      "Single element tuple: ('apple',)\n",
      "Type of single element tuple: <class 'tuple'>\n"
     ]
    }
   ],
   "source": [
    "# Creating a tuple with one element (note the comma)\n",
    "single_element_tuple = (\"apple\",)\n",
    "print(\"Single element tuple:\", single_element_tuple)\n",
    "print(\"Type of single element tuple:\", type(single_element_tuple))\n"
   ]
  },
  {
   "cell_type": "code",
   "execution_count": 21,
   "id": "c2b27473-9346-4a31-8a56-529a01357e85",
   "metadata": {},
   "outputs": [
    {
     "name": "stdout",
     "output_type": "stream",
     "text": [
      "Empty tuple: ()\n",
      "Type of empty tuple: <class 'tuple'>\n"
     ]
    }
   ],
   "source": [
    "# Empty tuple\n",
    "empty_tuple = ()\n",
    "print(\"Empty tuple:\", empty_tuple)\n",
    "print(\"Type of empty tuple:\", type(empty_tuple))\n"
   ]
  },
  {
   "cell_type": "code",
   "execution_count": null,
   "id": "7fb02a17-1c50-4f25-905d-3af6e25d682d",
   "metadata": {},
   "outputs": [],
   "source": []
  }
 ],
 "metadata": {
  "kernelspec": {
   "display_name": "Python 3 (ipykernel)",
   "language": "python",
   "name": "python3"
  },
  "language_info": {
   "codemirror_mode": {
    "name": "ipython",
    "version": 3
   },
   "file_extension": ".py",
   "mimetype": "text/x-python",
   "name": "python",
   "nbconvert_exporter": "python",
   "pygments_lexer": "ipython3",
   "version": "3.12.4"
  }
 },
 "nbformat": 4,
 "nbformat_minor": 5
}
