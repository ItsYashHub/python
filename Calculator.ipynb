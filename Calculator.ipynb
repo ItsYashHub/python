{
 "cells": [
  {
   "cell_type": "code",
   "execution_count": 1,
   "id": "18a811b9-5768-4fe7-b5fc-beb2efcc337e",
   "metadata": {},
   "outputs": [],
   "source": [
    "# calculator.py\n",
    "\n",
    "def add(a, b):\n",
    "    return a + b\n",
    "\n",
    "def sub(a, b):\n",
    "    return a - b\n",
    "\n",
    "def mul(a, b):\n",
    "    return a * b\n",
    "\n",
    "def div(a, b):\n",
    "    return a / b"
   ]
  },
  {
   "cell_type": "code",
   "execution_count": 3,
   "id": "b8b97ac2-7f1f-4802-8120-4ab3caf40b50",
   "metadata": {},
   "outputs": [],
   "source": [
    "from Package import Calculator"
   ]
  },
  {
   "cell_type": "code",
   "execution_count": 9,
   "id": "d206514e-5aec-4220-84e9-cf125e485c67",
   "metadata": {},
   "outputs": [
    {
     "name": "stdout",
     "output_type": "stream",
     "text": [
      "Addition of 5 and 4 is: 9\n"
     ]
    }
   ],
   "source": [
    "print(\"Addition of 5 and 4 is:\", Calculator.add(5, 4))"
   ]
  },
  {
   "cell_type": "code",
   "execution_count": 5,
   "id": "a5bfad55-d594-46a0-ae02-12bfd5ea6efc",
   "metadata": {},
   "outputs": [
    {
     "name": "stdout",
     "output_type": "stream",
     "text": [
      "Subtraction of 5 and 4 is: 1\n"
     ]
    }
   ],
   "source": [
    "print(\"Subtraction of 5 and 4 is:\", Calculator.sub(5, 4))"
   ]
  },
  {
   "cell_type": "code",
   "execution_count": null,
   "id": "388daa47-59a0-49b0-86b1-fbb3c9a6a7ab",
   "metadata": {},
   "outputs": [],
   "source": []
  }
 ],
 "metadata": {
  "kernelspec": {
   "display_name": "Python 3 (ipykernel)",
   "language": "python",
   "name": "python3"
  },
  "language_info": {
   "codemirror_mode": {
    "name": "ipython",
    "version": 3
   },
   "file_extension": ".py",
   "mimetype": "text/x-python",
   "name": "python",
   "nbconvert_exporter": "python",
   "pygments_lexer": "ipython3",
   "version": "3.12.4"
  }
 },
 "nbformat": 4,
 "nbformat_minor": 5
}
